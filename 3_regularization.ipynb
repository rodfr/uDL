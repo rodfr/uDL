{
 "cells": [
  {
   "cell_type": "markdown",
   "metadata": {
    "colab_type": "text",
    "id": "kR-4eNdK6lYS"
   },
   "source": [
    "Deep Learning\n",
    "=============\n",
    "\n",
    "Assignment 3\n",
    "------------\n",
    "\n",
    "Previously in `2_fullyconnected.ipynb`, you trained a logistic regression and a neural network model.\n",
    "\n",
    "The goal of this assignment is to explore regularization techniques."
   ]
  },
  {
   "cell_type": "code",
   "execution_count": 59,
   "metadata": {
    "cellView": "both",
    "colab": {
     "autoexec": {
      "startup": false,
      "wait_interval": 0
     }
    },
    "colab_type": "code",
    "collapsed": true,
    "id": "JLpLa8Jt7Vu4"
   },
   "outputs": [],
   "source": [
    "# These are all the modules we'll be using later. Make sure you can import them\n",
    "# before proceeding further.\n",
    "from __future__ import print_function\n",
    "import numpy as np\n",
    "import tensorflow as tf\n",
    "from six.moves import cPickle as pickle"
   ]
  },
  {
   "cell_type": "markdown",
   "metadata": {
    "colab_type": "text",
    "id": "1HrCK6e17WzV"
   },
   "source": [
    "First reload the data we generated in _notmist.ipynb_."
   ]
  },
  {
   "cell_type": "code",
   "execution_count": 66,
   "metadata": {
    "cellView": "both",
    "colab": {
     "autoexec": {
      "startup": false,
      "wait_interval": 0
     },
     "output_extras": [
      {
       "item_id": 1
      }
     ]
    },
    "colab_type": "code",
    "collapsed": false,
    "executionInfo": {
     "elapsed": 11777,
     "status": "ok",
     "timestamp": 1449849322348,
     "user": {
      "color": "",
      "displayName": "",
      "isAnonymous": false,
      "isMe": true,
      "permissionId": "",
      "photoUrl": "",
      "sessionId": "0",
      "userId": ""
     },
     "user_tz": 480
    },
    "id": "y3-cj1bpmuxc",
    "outputId": "e03576f1-ebbe-4838-c388-f1777bcc9873"
   },
   "outputs": [
    {
     "name": "stdout",
     "output_type": "stream",
     "text": [
      "Training set (200000, 28, 28) (200000,)\n",
      "Validation set (10000, 28, 28) (10000,)\n",
      "Test set (18724, 28, 28) (18724,)\n"
     ]
    }
   ],
   "source": [
    "pickle_file = 'notMNIST.pickle'\n",
    "\n",
    "with open(pickle_file, 'rb') as f:\n",
    "  save = pickle.load(f)\n",
    "  train_dataset = save['train_dataset']\n",
    "  train_labels = save['train_labels']\n",
    "  valid_dataset = save['valid_dataset']\n",
    "  valid_labels = save['valid_labels']\n",
    "  test_dataset = save['test_dataset']\n",
    "  test_labels = save['test_labels']\n",
    "  del save  # hint to help gc free up memory\n",
    "  print('Training set', train_dataset.shape, train_labels.shape)\n",
    "  print('Validation set', valid_dataset.shape, valid_labels.shape)\n",
    "  print('Test set', test_dataset.shape, test_labels.shape)"
   ]
  },
  {
   "cell_type": "markdown",
   "metadata": {
    "colab_type": "text",
    "id": "L7aHrm6nGDMB"
   },
   "source": [
    "Reformat into a shape that's more adapted to the models we're going to train:\n",
    "- data as a flat matrix,\n",
    "- labels as float 1-hot encodings."
   ]
  },
  {
   "cell_type": "code",
   "execution_count": 67,
   "metadata": {
    "cellView": "both",
    "colab": {
     "autoexec": {
      "startup": false,
      "wait_interval": 0
     },
     "output_extras": [
      {
       "item_id": 1
      }
     ]
    },
    "colab_type": "code",
    "collapsed": false,
    "executionInfo": {
     "elapsed": 11728,
     "status": "ok",
     "timestamp": 1449849322356,
     "user": {
      "color": "",
      "displayName": "",
      "isAnonymous": false,
      "isMe": true,
      "permissionId": "",
      "photoUrl": "",
      "sessionId": "0",
      "userId": ""
     },
     "user_tz": 480
    },
    "id": "IRSyYiIIGIzS",
    "outputId": "3f8996ee-3574-4f44-c953-5c8a04636582"
   },
   "outputs": [
    {
     "name": "stdout",
     "output_type": "stream",
     "text": [
      "Training set (200000, 784) (200000, 10)\n",
      "Validation set (10000, 784) (10000, 10)\n",
      "Test set (18724, 784) (18724, 10)\n"
     ]
    }
   ],
   "source": [
    "image_size = 28\n",
    "num_labels = 10\n",
    "\n",
    "def reformat(dataset, labels):\n",
    "  dataset = dataset.reshape((-1, image_size * image_size)).astype(np.float32)\n",
    "  # Map 2 to [0.0, 1.0, 0.0 ...], 3 to [0.0, 0.0, 1.0 ...]\n",
    "  labels = (np.arange(num_labels) == labels[:,None]).astype(np.float32)\n",
    "  return dataset, labels\n",
    "train_dataset, train_labels = reformat(train_dataset, train_labels)\n",
    "valid_dataset, valid_labels = reformat(valid_dataset, valid_labels)\n",
    "test_dataset, test_labels = reformat(test_dataset, test_labels)\n",
    "print('Training set', train_dataset.shape, train_labels.shape)\n",
    "print('Validation set', valid_dataset.shape, valid_labels.shape)\n",
    "print('Test set', test_dataset.shape, test_labels.shape)"
   ]
  },
  {
   "cell_type": "code",
   "execution_count": 12,
   "metadata": {
    "cellView": "both",
    "colab": {
     "autoexec": {
      "startup": false,
      "wait_interval": 0
     }
    },
    "colab_type": "code",
    "collapsed": true,
    "id": "RajPLaL_ZW6w"
   },
   "outputs": [],
   "source": [
    "def accuracy(predictions, labels):\n",
    "  return (100.0 * np.sum(np.argmax(predictions, 1) == np.argmax(labels, 1))\n",
    "          / predictions.shape[0])"
   ]
  },
  {
   "cell_type": "markdown",
   "metadata": {
    "colab_type": "text",
    "id": "sgLbUAQ1CW-1"
   },
   "source": [
    "---\n",
    "Problem 1\n",
    "---------\n",
    "\n",
    "Introduce and tune L2 regularization for both logistic and neural network models. Remember that L2 amounts to adding a penalty on the norm of the weights to the loss. In TensorFlow, you can compute the L2 loss for a tensor `t` using `nn.l2_loss(t)`. The right amount of regularization should improve your validation / test accuracy.\n",
    "\n",
    "---"
   ]
  },
  {
   "cell_type": "markdown",
   "metadata": {},
   "source": [
    "### Logistic Regression + L2 Regularization "
   ]
  },
  {
   "cell_type": "markdown",
   "metadata": {},
   "source": [
    "The first question is: * where do we add the l2 loss? * \n",
    "\n",
    "By analogy with (https://tensorflow.googlesource.com/tensorflow/+/master/tensorflow/models/image/mnist/convolutional.py)\n",
    "\n",
    "we can do it after the `reduce_mean` step"
   ]
  },
  {
   "cell_type": "markdown",
   "metadata": {},
   "source": [
    "We can pick the beta by doing multiple runs with beta = 1, 0.1,0.01,... while checking the loss on the validation set "
   ]
  },
  {
   "cell_type": "code",
   "execution_count": 73,
   "metadata": {
    "collapsed": false
   },
   "outputs": [],
   "source": [
    "batch_size = 128\n",
    "beta_reg = .001 # Loss =  Loss' + beta_reg * ||params||_L2^2\n",
    "\n",
    "graph = tf.Graph()\n",
    "with graph.as_default():\n",
    "\n",
    "    # Input data. For the training data, we use a placeholder that will be fed\n",
    "    # at run time with a training minibatch.\n",
    "    X_train = tf.placeholder(tf.float32,\n",
    "                                    shape=(batch_size, image_size * image_size))\n",
    "    Y_train = tf.placeholder(tf.float32, shape=(batch_size, num_labels))\n",
    "    X_valid = tf.constant(valid_dataset)\n",
    "    X_test = tf.constant(test_dataset)\n",
    "\n",
    "    # Variables.\n",
    "    W = tf.Variable(\n",
    "            tf.truncated_normal([image_size * image_size, num_labels]))\n",
    "    b = tf.Variable(tf.zeros([num_labels]))\n",
    "\n",
    "    # Training computation.\n",
    "    logits = tf.matmul(X_train, W) + b\n",
    "    \n",
    "    loss = tf.reduce_mean(\n",
    "                tf.nn.softmax_cross_entropy_with_logits(logits, Y_train)   )\n",
    "    l2_reg = beta_reg * (tf.nn.l2_loss(W) + tf.nn.l2_loss(b)) \n",
    "    \n",
    "    loss += l2_reg\n",
    "    \n",
    "    # Optimizer.\n",
    "    optimizer = tf.train.GradientDescentOptimizer(0.5).minimize(loss)\n",
    "\n",
    "    # Predictions for the training, validation, and test data.\n",
    "    train_prediction = tf.nn.softmax(logits)\n",
    "    valid_prediction = tf.nn.softmax(tf.matmul(X_valid, W) + b)\n",
    "    test_prediction = tf.nn.softmax(tf.matmul(X_test, W) + b)"
   ]
  },
  {
   "cell_type": "code",
   "execution_count": 444,
   "metadata": {
    "collapsed": false
   },
   "outputs": [
    {
     "name": "stdout",
     "output_type": "stream",
     "text": [
      "Initialized\n",
      "Minibatch loss at step 0: 6793.472168\n",
      "Minibatch accuracy: 9.4%\n",
      "Validation accuracy: 12.5%\n",
      "Minibatch loss at step 250: 1229.712646\n",
      "Minibatch accuracy: 55.5%\n",
      "Validation accuracy: 56.6%\n"
     ]
    },
    {
     "ename": "KeyboardInterrupt",
     "evalue": "",
     "output_type": "error",
     "traceback": [
      "\u001b[0;31m---------------------------------------------------------------------------\u001b[0m",
      "\u001b[0;31mKeyboardInterrupt\u001b[0m                         Traceback (most recent call last)",
      "\u001b[0;32m<ipython-input-444-a5e60e165562>\u001b[0m in \u001b[0;36m<module>\u001b[0;34m()\u001b[0m\n\u001b[1;32m     21\u001b[0m         \u001b[0;31m# run:\u001b[0m\u001b[0;34m\u001b[0m\u001b[0;34m\u001b[0m\u001b[0m\n\u001b[1;32m     22\u001b[0m         _, l, predictions = session.run(\n\u001b[0;32m---> 23\u001b[0;31m           [optimizer, loss, train_prediction], feed_dict=feed_dict)\n\u001b[0m\u001b[1;32m     24\u001b[0m         \u001b[0;32mif\u001b[0m \u001b[0;34m(\u001b[0m\u001b[0mstep\u001b[0m \u001b[0;34m%\u001b[0m \u001b[0;36m250\u001b[0m \u001b[0;34m==\u001b[0m \u001b[0;36m0\u001b[0m\u001b[0;34m)\u001b[0m\u001b[0;34m:\u001b[0m\u001b[0;34m\u001b[0m\u001b[0m\n\u001b[1;32m     25\u001b[0m             \u001b[0;32mprint\u001b[0m\u001b[0;34m(\u001b[0m\u001b[0;34m\"Minibatch loss at step %d: %f\"\u001b[0m \u001b[0;34m%\u001b[0m \u001b[0;34m(\u001b[0m\u001b[0mstep\u001b[0m\u001b[0;34m,\u001b[0m \u001b[0ml\u001b[0m\u001b[0;34m)\u001b[0m\u001b[0;34m)\u001b[0m\u001b[0;34m\u001b[0m\u001b[0m\n",
      "\u001b[0;32m/Users/rodgof/VirtualEnvs/mldev/lib/python2.7/site-packages/tensorflow/python/client/session.pyc\u001b[0m in \u001b[0;36mrun\u001b[0;34m(self, fetches, feed_dict)\u001b[0m\n\u001b[1;32m    313\u001b[0m         \u001b[0;34m`\u001b[0m\u001b[0mTensor\u001b[0m\u001b[0;34m`\u001b[0m \u001b[0mthat\u001b[0m \u001b[0mdoesn\u001b[0m\u001b[0;31m'\u001b[0m\u001b[0mt\u001b[0m \u001b[0mexist\u001b[0m\u001b[0;34m.\u001b[0m\u001b[0;34m\u001b[0m\u001b[0m\n\u001b[1;32m    314\u001b[0m     \"\"\"\n\u001b[0;32m--> 315\u001b[0;31m     \u001b[0;32mreturn\u001b[0m \u001b[0mself\u001b[0m\u001b[0;34m.\u001b[0m\u001b[0m_run\u001b[0m\u001b[0;34m(\u001b[0m\u001b[0mNone\u001b[0m\u001b[0;34m,\u001b[0m \u001b[0mfetches\u001b[0m\u001b[0;34m,\u001b[0m \u001b[0mfeed_dict\u001b[0m\u001b[0;34m)\u001b[0m\u001b[0;34m\u001b[0m\u001b[0m\n\u001b[0m\u001b[1;32m    316\u001b[0m \u001b[0;34m\u001b[0m\u001b[0m\n\u001b[1;32m    317\u001b[0m   \u001b[0;32mdef\u001b[0m \u001b[0mpartial_run\u001b[0m\u001b[0;34m(\u001b[0m\u001b[0mself\u001b[0m\u001b[0;34m,\u001b[0m \u001b[0mhandle\u001b[0m\u001b[0;34m,\u001b[0m \u001b[0mfetches\u001b[0m\u001b[0;34m,\u001b[0m \u001b[0mfeed_dict\u001b[0m\u001b[0;34m=\u001b[0m\u001b[0mNone\u001b[0m\u001b[0;34m)\u001b[0m\u001b[0;34m:\u001b[0m\u001b[0;34m\u001b[0m\u001b[0m\n",
      "\u001b[0;32m/Users/rodgof/VirtualEnvs/mldev/lib/python2.7/site-packages/tensorflow/python/client/session.pyc\u001b[0m in \u001b[0;36m_run\u001b[0;34m(self, handle, fetches, feed_dict)\u001b[0m\n\u001b[1;32m    509\u001b[0m     \u001b[0;31m# Run request and get response.\u001b[0m\u001b[0;34m\u001b[0m\u001b[0;34m\u001b[0m\u001b[0m\n\u001b[1;32m    510\u001b[0m     results = self._do_run(handle, target_list, unique_fetches,\n\u001b[0;32m--> 511\u001b[0;31m                            feed_dict_string)\n\u001b[0m\u001b[1;32m    512\u001b[0m \u001b[0;34m\u001b[0m\u001b[0m\n\u001b[1;32m    513\u001b[0m     \u001b[0;31m# User may have fetched the same tensor multiple times, but we\u001b[0m\u001b[0;34m\u001b[0m\u001b[0;34m\u001b[0m\u001b[0m\n",
      "\u001b[0;32m/Users/rodgof/VirtualEnvs/mldev/lib/python2.7/site-packages/tensorflow/python/client/session.pyc\u001b[0m in \u001b[0;36m_do_run\u001b[0;34m(self, handle, target_list, fetch_list, feed_dict)\u001b[0m\n\u001b[1;32m    562\u001b[0m     \u001b[0;32mif\u001b[0m \u001b[0mhandle\u001b[0m \u001b[0;32mis\u001b[0m \u001b[0mNone\u001b[0m\u001b[0;34m:\u001b[0m\u001b[0;34m\u001b[0m\u001b[0m\n\u001b[1;32m    563\u001b[0m       return self._do_call(_run_fn, self._session, feed_dict, fetch_list,\n\u001b[0;32m--> 564\u001b[0;31m                            target_list)\n\u001b[0m\u001b[1;32m    565\u001b[0m     \u001b[0;32melse\u001b[0m\u001b[0;34m:\u001b[0m\u001b[0;34m\u001b[0m\u001b[0m\n\u001b[1;32m    566\u001b[0m       return self._do_call(_prun_fn, self._session, handle, feed_dict,\n",
      "\u001b[0;32m/Users/rodgof/VirtualEnvs/mldev/lib/python2.7/site-packages/tensorflow/python/client/session.pyc\u001b[0m in \u001b[0;36m_do_call\u001b[0;34m(self, fn, *args)\u001b[0m\n\u001b[1;32m    569\u001b[0m   \u001b[0;32mdef\u001b[0m \u001b[0m_do_call\u001b[0m\u001b[0;34m(\u001b[0m\u001b[0mself\u001b[0m\u001b[0;34m,\u001b[0m \u001b[0mfn\u001b[0m\u001b[0;34m,\u001b[0m \u001b[0;34m*\u001b[0m\u001b[0margs\u001b[0m\u001b[0;34m)\u001b[0m\u001b[0;34m:\u001b[0m\u001b[0;34m\u001b[0m\u001b[0m\n\u001b[1;32m    570\u001b[0m     \u001b[0;32mtry\u001b[0m\u001b[0;34m:\u001b[0m\u001b[0;34m\u001b[0m\u001b[0m\n\u001b[0;32m--> 571\u001b[0;31m       \u001b[0;32mreturn\u001b[0m \u001b[0mfn\u001b[0m\u001b[0;34m(\u001b[0m\u001b[0;34m*\u001b[0m\u001b[0margs\u001b[0m\u001b[0;34m)\u001b[0m\u001b[0;34m\u001b[0m\u001b[0m\n\u001b[0m\u001b[1;32m    572\u001b[0m     \u001b[0;32mexcept\u001b[0m \u001b[0mtf_session\u001b[0m\u001b[0;34m.\u001b[0m\u001b[0mStatusNotOK\u001b[0m \u001b[0;32mas\u001b[0m \u001b[0me\u001b[0m\u001b[0;34m:\u001b[0m\u001b[0;34m\u001b[0m\u001b[0m\n\u001b[1;32m    573\u001b[0m       \u001b[0me_type\u001b[0m\u001b[0;34m,\u001b[0m \u001b[0me_value\u001b[0m\u001b[0;34m,\u001b[0m \u001b[0me_traceback\u001b[0m \u001b[0;34m=\u001b[0m \u001b[0msys\u001b[0m\u001b[0;34m.\u001b[0m\u001b[0mexc_info\u001b[0m\u001b[0;34m(\u001b[0m\u001b[0;34m)\u001b[0m\u001b[0;34m\u001b[0m\u001b[0m\n",
      "\u001b[0;32m/Users/rodgof/VirtualEnvs/mldev/lib/python2.7/site-packages/tensorflow/python/client/session.pyc\u001b[0m in \u001b[0;36m_run_fn\u001b[0;34m(session, feed_dict, fetch_list, target_list)\u001b[0m\n\u001b[1;32m    553\u001b[0m       \u001b[0;31m# Ensure any changes to the graph are reflected in the runtime.\u001b[0m\u001b[0;34m\u001b[0m\u001b[0;34m\u001b[0m\u001b[0m\n\u001b[1;32m    554\u001b[0m       \u001b[0mself\u001b[0m\u001b[0;34m.\u001b[0m\u001b[0m_extend_graph\u001b[0m\u001b[0;34m(\u001b[0m\u001b[0;34m)\u001b[0m\u001b[0;34m\u001b[0m\u001b[0m\n\u001b[0;32m--> 555\u001b[0;31m       \u001b[0;32mreturn\u001b[0m \u001b[0mtf_session\u001b[0m\u001b[0;34m.\u001b[0m\u001b[0mTF_Run\u001b[0m\u001b[0;34m(\u001b[0m\u001b[0msession\u001b[0m\u001b[0;34m,\u001b[0m \u001b[0mfeed_dict\u001b[0m\u001b[0;34m,\u001b[0m \u001b[0mfetch_list\u001b[0m\u001b[0;34m,\u001b[0m \u001b[0mtarget_list\u001b[0m\u001b[0;34m)\u001b[0m\u001b[0;34m\u001b[0m\u001b[0m\n\u001b[0m\u001b[1;32m    556\u001b[0m \u001b[0;34m\u001b[0m\u001b[0m\n\u001b[1;32m    557\u001b[0m     \u001b[0;32mdef\u001b[0m \u001b[0m_prun_fn\u001b[0m\u001b[0;34m(\u001b[0m\u001b[0msession\u001b[0m\u001b[0;34m,\u001b[0m \u001b[0mhandle\u001b[0m\u001b[0;34m,\u001b[0m \u001b[0mfeed_dict\u001b[0m\u001b[0;34m,\u001b[0m \u001b[0mfetch_list\u001b[0m\u001b[0;34m)\u001b[0m\u001b[0;34m:\u001b[0m\u001b[0;34m\u001b[0m\u001b[0m\n",
      "\u001b[0;31mKeyboardInterrupt\u001b[0m: "
     ]
    }
   ],
   "source": [
    "num_steps = 3001\n",
    "\n",
    "with tf.Session(graph=graph) as session:\n",
    "    tf.initialize_all_variables().run()\n",
    "    print(\"Initialized\")\n",
    "    for step in range(num_steps):\n",
    "        # offset:\n",
    "        # Pick an offset within the training data, which has been randomized.\n",
    "        # Note: we could use better randomization across epochs.\n",
    "        offset = (step * batch_size) % (train_labels.shape[0] - batch_size)\n",
    "        # Generate a minibatch.\n",
    "        batch_data = train_dataset[offset:(offset + batch_size), :]\n",
    "        batch_labels = train_labels[offset:(offset + batch_size), :]\n",
    "        \n",
    "        # feed:\n",
    "        # Prepare a dictionary telling the session where to feed the minibatch.\n",
    "        # The key of the dictionary is the placeholder node of the graph to be fed,\n",
    "        # and the value is the numpy array to feed to it.\n",
    "        feed_dict = {X_train : batch_data, Y_train: batch_labels}\n",
    "        \n",
    "        # run:\n",
    "        _, l, predictions = session.run(\n",
    "          [optimizer, loss, train_prediction], feed_dict=feed_dict)\n",
    "        if (step % 250 == 0):\n",
    "            print(\"Minibatch loss at step %d: %f\" % (step, l))\n",
    "            print(\"Minibatch accuracy: %.1f%%\" % accuracy(predictions, batch_labels))\n",
    "            print(\"Validation accuracy: %.1f%%\" % accuracy(\n",
    "               valid_prediction.eval(), valid_labels))\n",
    "    print(\"Test accuracy: %.1f%%\" % accuracy(test_prediction.eval(), test_labels))"
   ]
  },
  {
   "cell_type": "markdown",
   "metadata": {},
   "source": [
    "### now with the Neural Net! "
   ]
  },
  {
   "cell_type": "code",
   "execution_count": 77,
   "metadata": {
    "collapsed": false
   },
   "outputs": [],
   "source": [
    "batch_size = 128\n",
    "\n",
    "# number of hidden nodes in layer 1  \n",
    "num_h1 = 1024\n",
    "# beta regularization: Loss =  Loss' + beta_reg * ||params||_L2^2\n",
    "beta_reg = .001 \n",
    "\n",
    "graph = tf.Graph()\n",
    "with graph.as_default():\n",
    "\n",
    "    # Input data - Placeholder\n",
    "    X_train = tf.placeholder(tf.float32,\n",
    "                         shape=(batch_size, image_size * image_size))\n",
    "    Y_train = tf.placeholder(tf.float32, shape=(batch_size, num_labels))\n",
    "    X_valid = tf.constant(valid_dataset)\n",
    "    X_test = tf.constant(test_dataset)\n",
    "\n",
    "    # Variables - random initialization for weights\n",
    "    # first matrix N_pixels x N_h1 where N_h1 = number of hidden nodes in firs layer\n",
    "    \n",
    "    W = tf.Variable(\n",
    "    tf.truncated_normal([image_size * image_size, num_h1]))\n",
    "    b = tf.Variable(tf.zeros([num_h1]))\n",
    "    # + ReLu\n",
    "    R  = tf.nn.relu(tf.matmul(X_train, W) + b)\n",
    "    \n",
    "    # hidden layer 1 variables \n",
    "    H1 = tf.Variable(\n",
    "    tf.truncated_normal([num_h1, num_labels]))\n",
    "    b_h1 = tf.Variable(tf.zeros([num_labels]))\n",
    "\n",
    "    # Training computation.\n",
    "    logits = tf.matmul(R, H1) + b_h1\n",
    "    \n",
    "    # loss\n",
    "    loss = tf.reduce_mean(tf.nn.softmax_cross_entropy_with_logits(logits, Y_train))\n",
    "    \n",
    "    # regularization\n",
    "    l2_reg = beta_reg * (tf.nn.l2_loss(W) + tf.nn.l2_loss(b) + \n",
    "                         tf.nn.l2_loss(H1) + tf.nn.l2_loss(b_h1)) \n",
    "    loss += l2_reg\n",
    "    \n",
    "    # Optimizer.\n",
    "    optimizer = tf.train.GradientDescentOptimizer(0.5).minimize(loss)\n",
    "\n",
    "    # Predictions for the training, validation, and test data.\n",
    "    train_prediction = tf.nn.softmax(logits)\n",
    "    # pred = ((Xtest^t * W + b) * H1) + bh1\n",
    "    valid_prediction = tf.nn.softmax(tf.matmul(tf.nn.relu(tf.matmul(X_valid, W) + b), H1) + b_h1)\n",
    "    test_prediction = tf.nn.softmax(tf.matmul(tf.nn.relu(tf.matmul(X_test, W) + b), H1) + b_h1)"
   ]
  },
  {
   "cell_type": "code",
   "execution_count": 78,
   "metadata": {
    "collapsed": false,
    "scrolled": true
   },
   "outputs": [
    {
     "name": "stdout",
     "output_type": "stream",
     "text": [
      "Initialized\n",
      "Minibatch loss at step 0: 647.474121\n",
      "Minibatch accuracy: 13.3%\n",
      "Validation accuracy: 18.3%\n",
      "Minibatch loss at step 500: 196.665894\n",
      "Minibatch accuracy: 82.8%\n",
      "Validation accuracy: 60.3%\n",
      "Minibatch loss at step 1000: 116.655571\n",
      "Minibatch accuracy: 83.6%\n",
      "Validation accuracy: 64.3%\n",
      "Minibatch loss at step 1500: 69.847588\n",
      "Minibatch accuracy: 86.7%\n",
      "Validation accuracy: 64.2%\n",
      "Minibatch loss at step 2000: 41.704449\n",
      "Minibatch accuracy: 87.5%\n",
      "Validation accuracy: 65.3%\n",
      "Minibatch loss at step 2500: 25.713997\n",
      "Minibatch accuracy: 87.5%\n",
      "Validation accuracy: 66.6%\n",
      "Minibatch loss at step 3000: 15.539057\n",
      "Minibatch accuracy: 89.8%\n",
      "Validation accuracy: 70.3%\n",
      "Test accuracy: 92.9%\n"
     ]
    }
   ],
   "source": [
    "num_steps = 3001\n",
    "\n",
    "with tf.Session(graph=graph) as session:\n",
    "    tf.initialize_all_variables().run()\n",
    "    print(\"Initialized\")\n",
    "    for step in range(num_steps):\n",
    "        # offset:\n",
    "        # Pick an offset within the training data, which has been randomized.\n",
    "        # Note: we could use better randomization across epochs.\n",
    "        offset = (step * batch_size) % (train_labels.shape[0] - batch_size)\n",
    "        # Generate a minibatch.\n",
    "        batch_data = train_dataset[offset:(offset + batch_size), :]\n",
    "        batch_labels = train_labels[offset:(offset + batch_size), :]\n",
    "        \n",
    "        # feed:\n",
    "        # Prepare a dictionary telling the session where to feed the minibatch.\n",
    "        # The key of the dictionary is the placeholder node of the graph to be fed,\n",
    "        # and the value is the numpy array to feed to it.\n",
    "        feed_dict = {X_train : batch_data, Y_train: batch_labels}\n",
    "        \n",
    "        # run:\n",
    "        _, l, predictions = session.run(\n",
    "          [optimizer, loss, train_prediction], feed_dict=feed_dict)\n",
    "        if (step % 500 == 0):\n",
    "            print(\"Minibatch loss at step %d: %f\" % (step, l))\n",
    "            print(\"Minibatch accuracy: %.1f%%\" % accuracy(predictions, batch_labels))\n",
    "            print(\"Validation accuracy: %.1f%%\" % accuracy(\n",
    "               valid_prediction.eval(), valid_labels))\n",
    "    print(\"Test accuracy: %.1f%%\" % accuracy(test_prediction.eval(), test_labels))"
   ]
  },
  {
   "cell_type": "markdown",
   "metadata": {
    "colab_type": "text",
    "id": "na8xX2yHZzNF"
   },
   "source": [
    "---\n",
    "Problem 2\n",
    "---------\n",
    "Let's demonstrate an extreme case of overfitting. Restrict your training data to just a few batches. What happens?\n",
    "\n",
    "---"
   ]
  },
  {
   "cell_type": "code",
   "execution_count": 90,
   "metadata": {
    "collapsed": false
   },
   "outputs": [
    {
     "name": "stdout",
     "output_type": "stream",
     "text": [
      "(1280, 784) (1280, 10)\n"
     ]
    }
   ],
   "source": [
    "subset_train  = train_dataset[:1280,:]\n",
    "subset_labels = train_labels[:1280,:]\n",
    "print (subset_train.shape, subset_labels.shape)"
   ]
  },
  {
   "cell_type": "code",
   "execution_count": 91,
   "metadata": {
    "collapsed": true
   },
   "outputs": [],
   "source": [
    "batch_size = 128\n",
    "\n",
    "# number of hidden nodes in layer 1  \n",
    "num_h1 = 1024\n",
    "# beta regularization: Loss =  Loss' + beta_reg * ||params||_L2^2\n",
    "beta_reg = .001 \n",
    "\n",
    "graph = tf.Graph()\n",
    "with graph.as_default():\n",
    "\n",
    "    # Input data - Placeholder\n",
    "    X_train = tf.placeholder(tf.float32,\n",
    "                         shape=(batch_size, image_size * image_size))\n",
    "    Y_train = tf.placeholder(tf.float32, shape=(batch_size, num_labels))\n",
    "    X_valid = tf.constant(valid_dataset)\n",
    "    X_test = tf.constant(test_dataset)\n",
    "\n",
    "    # Variables - random initialization for weights\n",
    "    # first matrix N_pixels x N_h1 where N_h1 = number of hidden nodes in firs layer\n",
    "    W = tf.Variable(tf.truncated_normal([image_size * image_size, num_h1]))\n",
    "    b = tf.Variable(tf.zeros([num_h1]))\n",
    "    # + ReLu\n",
    "    R  = tf.nn.relu(tf.matmul(X_train, W) + b)\n",
    "    \n",
    "    # hidden layer 1 variables \n",
    "    H1 = tf.Variable(tf.truncated_normal([num_h1, num_labels]))\n",
    "    b_h1 = tf.Variable(tf.zeros([num_labels]))\n",
    "\n",
    "    # Training computation.\n",
    "    logits = tf.matmul(R, H1) + b_h1\n",
    "    \n",
    "    # loss\n",
    "    loss = tf.reduce_mean(tf.nn.softmax_cross_entropy_with_logits(logits, Y_train))\n",
    "    \n",
    "    # regularization\n",
    "    l2_reg = beta_reg * (tf.nn.l2_loss(W) + tf.nn.l2_loss(b) + \n",
    "                         tf.nn.l2_loss(H1) + tf.nn.l2_loss(b_h1)) \n",
    "    loss += l2_reg\n",
    "    \n",
    "    # Optimizer.\n",
    "    optimizer = tf.train.GradientDescentOptimizer(0.5).minimize(loss)\n",
    "\n",
    "    # Predictions for the training, validation, and test data.\n",
    "    train_prediction = tf.nn.softmax(logits)\n",
    "    # pred = ((Xtest^t * W + b) * H1) + bh1\n",
    "    valid_prediction = tf.nn.softmax(tf.matmul(tf.nn.relu(tf.matmul(X_valid, W) + b), H1) + b_h1)\n",
    "    test_prediction = tf.nn.softmax(tf.matmul(tf.nn.relu(tf.matmul(X_test, W) + b), H1) + b_h1)"
   ]
  },
  {
   "cell_type": "code",
   "execution_count": 92,
   "metadata": {
    "collapsed": false
   },
   "outputs": [
    {
     "name": "stdout",
     "output_type": "stream",
     "text": [
      "Initialized\n",
      "Minibatch loss at step 0: 694.216858\n",
      "Minibatch accuracy: 5.5%\n",
      "Validation accuracy: 23.8%\n",
      "Minibatch loss at step 500: 190.374252\n",
      "Minibatch accuracy: 100.0%\n",
      "Validation accuracy: 60.0%\n",
      "Minibatch loss at step 1000: 115.453362\n",
      "Minibatch accuracy: 100.0%\n",
      "Validation accuracy: 60.0%\n",
      "Minibatch loss at step 1500: 70.017273\n",
      "Minibatch accuracy: 100.0%\n",
      "Validation accuracy: 60.1%\n",
      "Minibatch loss at step 2000: 42.462151\n",
      "Minibatch accuracy: 100.0%\n",
      "Validation accuracy: 60.3%\n",
      "Minibatch loss at step 2500: 25.752001\n",
      "Minibatch accuracy: 100.0%\n",
      "Validation accuracy: 60.5%\n",
      "Minibatch loss at step 3000: 15.618672\n",
      "Minibatch accuracy: 100.0%\n",
      "Validation accuracy: 60.9%\n",
      "Test accuracy: 85.3%\n"
     ]
    }
   ],
   "source": [
    "num_steps = 3001\n",
    "\n",
    "with tf.Session(graph=graph) as session:\n",
    "    tf.initialize_all_variables().run()\n",
    "    print(\"Initialized\")\n",
    "    for step in range(num_steps):\n",
    "        # offset:\n",
    "        offset = (step * batch_size) % (subset_train.shape[0] - batch_size)\n",
    "        \n",
    "        # Generate a minibatch.\n",
    "        batch_data = subset_train[offset:(offset + batch_size), :]\n",
    "        batch_labels = subset_labels[offset:(offset + batch_size), :]\n",
    "        \n",
    "        # feed:\n",
    "        feed_dict = {X_train : batch_data, Y_train: batch_labels}\n",
    "        \n",
    "        # run:\n",
    "        _, l, predictions = session.run(\n",
    "          [optimizer, loss, train_prediction], feed_dict=feed_dict)\n",
    "        if (step % 500 == 0):\n",
    "            print(\"Minibatch loss at step %d: %f\" % (step, l))\n",
    "            print(\"Minibatch accuracy: %.1f%%\" % accuracy(predictions, batch_labels))\n",
    "            print(\"Validation accuracy: %.1f%%\" % accuracy(\n",
    "               valid_prediction.eval(), valid_labels))\n",
    "    print(\"Test accuracy: %.1f%%\" % accuracy(test_prediction.eval(), test_labels))"
   ]
  },
  {
   "cell_type": "markdown",
   "metadata": {},
   "source": [
    "Hard to learn with little data"
   ]
  },
  {
   "cell_type": "markdown",
   "metadata": {
    "colab_type": "text",
    "id": "ww3SCBUdlkRc"
   },
   "source": [
    "---\n",
    "Problem 3\n",
    "---------\n",
    "Introduce Dropout on the hidden layer of the neural network. Remember: Dropout should only be introduced during training, not evaluation, otherwise your evaluation results would be stochastic as well. TensorFlow provides `nn.dropout()` for that, but you have to make sure it's only inserted during training.\n",
    "\n",
    "What happens to our extreme overfitting case?\n",
    "\n",
    "---"
   ]
  },
  {
   "cell_type": "code",
   "execution_count": 93,
   "metadata": {
    "collapsed": true
   },
   "outputs": [],
   "source": [
    "batch_size = 128\n",
    "\n",
    "# number of hidden nodes in layer 1  \n",
    "num_h1 = 1024\n",
    "# beta regularization: Loss =  Loss' + beta_reg * ||params||_L2^2\n",
    "beta_reg = .001 \n",
    "\n",
    "graph = tf.Graph()\n",
    "with graph.as_default():\n",
    "\n",
    "    # Input data - Placeholder\n",
    "    X_train = tf.placeholder(tf.float32, shape=(batch_size, image_size * image_size))\n",
    "    Y_train = tf.placeholder(tf.float32, shape=(batch_size, num_labels))\n",
    "    X_valid = tf.constant(valid_dataset)\n",
    "    X_test = tf.constant(test_dataset)\n",
    "\n",
    "    # Variables - random initialization for weights\n",
    "    # first matrix N_pixels x N_h1 where N_h1 = number of hidden nodes in firs layer\n",
    "    \n",
    "    W = tf.Variable(tf.truncated_normal([image_size * image_size, num_h1]))\n",
    "    b = tf.Variable(tf.zeros([num_h1]))\n",
    "    # + ReLu \n",
    "    # + Dropout ( drop 50% of the activations )\n",
    "    R  = tf.nn.dropout(tf.nn.relu(tf.matmul(X_train, W) + b),  0.5)\n",
    "    \n",
    "    # hidden layer 1 variables \n",
    "    H1 = tf.Variable(tf.truncated_normal([num_h1, num_labels]))\n",
    "    b_h1 = tf.Variable(tf.zeros([num_labels]))\n",
    "\n",
    "    # Training computation.\n",
    "    logits = tf.matmul(R, H1) + b_h1\n",
    "    \n",
    "    # loss\n",
    "    loss = tf.reduce_mean(tf.nn.softmax_cross_entropy_with_logits(logits, Y_train))\n",
    "    \n",
    "    # regularization\n",
    "    l2_reg = beta_reg * (tf.nn.l2_loss(W) + tf.nn.l2_loss(b) + \n",
    "                         tf.nn.l2_loss(H1) + tf.nn.l2_loss(b_h1)) \n",
    "    loss += l2_reg\n",
    "    \n",
    "    # Optimizer.\n",
    "    optimizer = tf.train.GradientDescentOptimizer(0.5).minimize(loss)\n",
    "\n",
    "    # Predictions for the training, validation, and test data.\n",
    "    train_prediction = tf.nn.softmax(logits)\n",
    "    # pred = ((Xtest^t * W + b) * H1) + bh1\n",
    "    valid_prediction = tf.nn.softmax(tf.matmul(tf.nn.relu(tf.matmul(X_valid, W) + b), H1) + b_h1)\n",
    "    test_prediction = tf.nn.softmax(tf.matmul(tf.nn.relu(tf.matmul(X_test, W) + b), H1) + b_h1)"
   ]
  },
  {
   "cell_type": "code",
   "execution_count": 94,
   "metadata": {
    "collapsed": false
   },
   "outputs": [
    {
     "name": "stdout",
     "output_type": "stream",
     "text": [
      "Initialized\n",
      "Minibatch loss at step 0: 770.083923\n",
      "Minibatch accuracy: 14.1%\n",
      "Validation accuracy: 22.9%\n",
      "Minibatch loss at step 500: 217.690826\n",
      "Minibatch accuracy: 78.1%\n",
      "Validation accuracy: 62.3%\n",
      "Minibatch loss at step 1000: 123.139717\n",
      "Minibatch accuracy: 75.8%\n",
      "Validation accuracy: 62.1%\n",
      "Minibatch loss at step 1500: 71.127846\n",
      "Minibatch accuracy: 79.7%\n",
      "Validation accuracy: 60.4%\n",
      "Minibatch loss at step 2000: 42.896503\n",
      "Minibatch accuracy: 71.9%\n",
      "Validation accuracy: 65.4%\n",
      "Minibatch loss at step 2500: 26.325695\n",
      "Minibatch accuracy: 78.1%\n",
      "Validation accuracy: 64.1%\n",
      "Minibatch loss at step 3000: 15.976868\n",
      "Minibatch accuracy: 85.9%\n",
      "Validation accuracy: 68.5%\n",
      "Test accuracy: 91.4%\n"
     ]
    }
   ],
   "source": [
    "num_steps = 3001\n",
    "\n",
    "with tf.Session(graph=graph) as session:\n",
    "    tf.initialize_all_variables().run()\n",
    "    print(\"Initialized\")\n",
    "    for step in range(num_steps):\n",
    "        # offset:\n",
    "        offset = (step * batch_size) % (train_labels.shape[0] - batch_size)\n",
    "        # Generate a minibatch.\n",
    "        batch_data = train_dataset[offset:(offset + batch_size), :]\n",
    "        batch_labels = train_labels[offset:(offset + batch_size), :]\n",
    "        \n",
    "        # feed:\n",
    "        feed_dict = {X_train : batch_data, Y_train: batch_labels}\n",
    "        \n",
    "        # run:\n",
    "        _, l, predictions = session.run(\n",
    "          [optimizer, loss, train_prediction], feed_dict=feed_dict)\n",
    "        if (step % 500 == 0):\n",
    "            print(\"Minibatch loss at step %d: %f\" % (step, l))\n",
    "            print(\"Minibatch accuracy: %.1f%%\" % accuracy(predictions, batch_labels))\n",
    "            print(\"Validation accuracy: %.1f%%\" % accuracy(\n",
    "               valid_prediction.eval(), valid_labels))\n",
    "    print(\"Test accuracy: %.1f%%\" % accuracy(test_prediction.eval(), test_labels))"
   ]
  },
  {
   "cell_type": "markdown",
   "metadata": {
    "colab_type": "text",
    "id": "-b1hTz3VWZjw"
   },
   "source": [
    "---\n",
    "Problem 4\n",
    "---------\n",
    "\n",
    "Try to get the best performance you can using a multi-layer model! The best reported test accuracy using a deep network is [97.1%](http://yaroslavvb.blogspot.com/2011/09/notmnist-dataset.html?showComment=1391023266211#c8758720086795711595).\n",
    "\n",
    "One avenue you can explore is to add multiple layers.\n",
    "\n",
    "Another one is to use learning rate decay:\n",
    "\n",
    "    global_step = tf.Variable(0)  # count the number of steps taken.\n",
    "    learning_rate = tf.train.exponential_decay(0.5, step, ...)\n",
    "    optimizer = tf.train.GradientDescentOptimizer(learning_rate).minimize(loss, global_step=global_step)\n",
    " \n",
    " ---\n"
   ]
  },
  {
   "cell_type": "markdown",
   "metadata": {},
   "source": [
    "Let's try 2 hidden layers!"
   ]
  },
  {
   "cell_type": "code",
   "execution_count": 459,
   "metadata": {
    "collapsed": false
   },
   "outputs": [],
   "source": [
    "# params \n",
    "\n",
    "num_steps = 5001\n",
    "print_step = 400\n",
    "import numpy as np\n",
    "\n",
    "# beta regularization: Loss =  Loss' + beta_reg * ||params||_L2^2\n",
    "#beta_reg = 0.0005\n",
    "#betas = [beta_reg]\n",
    "betas = [0.001] \n",
    "\n",
    "#decay_rate  = 0.9\n",
    "decay_rates  = [0.95]\n",
    "\n",
    "# starter  \n",
    "#starter_rates = [starter_rate]\n",
    "starter_rates = [0.001,0.00075,0.0005,0.00025,0.0001]\n",
    "num_tries = 10\n",
    "\n"
   ]
  },
  {
   "cell_type": "code",
   "execution_count": 460,
   "metadata": {
    "collapsed": false
   },
   "outputs": [
    {
     "name": "stdout",
     "output_type": "stream",
     "text": [
      "---Initialized ---: beta,d_rate,s_rate=  0.001 0.95 0.001\n",
      "Minibatch loss at step 0: 7208.687012, lr: 0.001000\n",
      "Validation accuracy: 11.4%\n",
      "Minibatch loss at step 400: 1067.608398, lr: 0.000950\n",
      "Validation accuracy: 57.4%\n",
      "Minibatch loss at step 800: 725.521240, lr: 0.000903\n",
      "Validation accuracy: 57.7%\n",
      "Minibatch loss at step 1200: 561.579651, lr: 0.000857\n",
      "Validation accuracy: 56.3%\n",
      "Minibatch loss at step 1600: 534.363098, lr: 0.000774\n",
      "Validation accuracy: 56.5%\n",
      "Minibatch loss at step 2000: 510.598022, lr: 0.000735\n",
      "Validation accuracy: 56.7%\n",
      "Minibatch loss at step 2400: 448.126221, lr: 0.000698\n",
      "Validation accuracy: 55.0%\n",
      "Minibatch loss at step 2800: 445.365906, lr: 0.000663\n",
      "Validation accuracy: 52.3%\n",
      "early stop at 2800 steps now: 52.290000< before 57.700000\n",
      "\n",
      "Test accuracy: 78.4%\n",
      "---Initialized ---: beta,d_rate,s_rate=  0.001 0.95 0.00075\n",
      "Minibatch loss at step 0: 7383.670898, lr: 0.000750\n",
      "Validation accuracy: 10.8%\n",
      "Minibatch loss at step 400: 1169.214233, lr: 0.000713\n",
      "Validation accuracy: 57.8%\n",
      "Minibatch loss at step 800: 958.688354, lr: 0.000677\n",
      "Validation accuracy: 57.4%\n",
      "Minibatch loss at step 1200: 575.121704, lr: 0.000643\n",
      "Validation accuracy: 57.9%\n",
      "Minibatch loss at step 1600: 653.794067, lr: 0.000580\n",
      "Validation accuracy: 57.4%\n",
      "Minibatch loss at step 2000: 548.395752, lr: 0.000551\n",
      "Validation accuracy: 57.9%\n",
      "Minibatch loss at step 2400: 482.165405, lr: 0.000524\n",
      "Validation accuracy: 55.0%\n",
      "Minibatch loss at step 2800: 482.761963, lr: 0.000498\n",
      "Validation accuracy: 55.8%\n",
      "Minibatch loss at step 3200: 483.520966, lr: 0.000449\n",
      "Validation accuracy: 53.8%\n",
      "Minibatch loss at step 3600: 473.942566, lr: 0.000427\n",
      "Validation accuracy: 54.1%\n",
      "Minibatch loss at step 4000: 460.153076, lr: 0.000405\n",
      "Validation accuracy: 52.1%\n",
      "early stop at 4000 steps now: 52.150000< before 57.940000\n",
      "\n",
      "Test accuracy: 77.8%\n",
      "---Initialized ---: beta,d_rate,s_rate=  0.001 0.95 0.0005\n",
      "Minibatch loss at step 0: 6559.338867, lr: 0.000500\n",
      "Validation accuracy: 11.8%\n",
      "Minibatch loss at step 400: 1614.844238, lr: 0.000475\n",
      "Validation accuracy: 56.5%\n",
      "Minibatch loss at step 800: 1074.379883, lr: 0.000451\n",
      "Validation accuracy: 59.0%\n",
      "Minibatch loss at step 1200: 737.246338, lr: 0.000429\n",
      "Validation accuracy: 59.2%\n",
      "Minibatch loss at step 1600: 704.316895, lr: 0.000387\n",
      "Validation accuracy: 59.4%\n",
      "Minibatch loss at step 2000: 690.335693, lr: 0.000368\n",
      "Validation accuracy: 59.8%\n",
      "Minibatch loss at step 2400: 631.119141, lr: 0.000349\n",
      "Validation accuracy: 58.3%\n",
      "Minibatch loss at step 2800: 567.691040, lr: 0.000332\n",
      "Validation accuracy: 58.0%\n",
      "Minibatch loss at step 3200: 568.285156, lr: 0.000299\n",
      "Validation accuracy: 58.1%\n",
      "Minibatch loss at step 3600: 496.115417, lr: 0.000284\n",
      "Validation accuracy: 57.3%\n",
      "Minibatch loss at step 4000: 554.419617, lr: 0.000270\n",
      "Validation accuracy: 57.5%\n",
      "Minibatch loss at step 4400: 562.626831, lr: 0.000244\n",
      "Validation accuracy: 56.8%\n",
      "Minibatch loss at step 4800: 483.662354, lr: 0.000232\n",
      "Validation accuracy: 55.7%\n",
      "Test accuracy: 83.9%\n",
      "---Initialized ---: beta,d_rate,s_rate=  0.001 0.95 0.00025\n",
      "Minibatch loss at step 0: 6620.862305, lr: 0.000250\n",
      "Validation accuracy: 11.2%\n",
      "Minibatch loss at step 400: 2408.415527, lr: 0.000238\n",
      "Validation accuracy: 53.9%\n",
      "Minibatch loss at step 800: 1608.185547, lr: 0.000226\n",
      "Validation accuracy: 57.3%\n",
      "Minibatch loss at step 1200: 1095.255615, lr: 0.000214\n",
      "Validation accuracy: 58.2%\n",
      "Minibatch loss at step 1600: 940.925720, lr: 0.000193\n",
      "Validation accuracy: 58.8%\n",
      "Minibatch loss at step 2000: 1149.547119, lr: 0.000184\n",
      "Validation accuracy: 59.0%\n",
      "Minibatch loss at step 2400: 772.056885, lr: 0.000175\n",
      "Validation accuracy: 59.3%\n",
      "Minibatch loss at step 2800: 700.533203, lr: 0.000166\n",
      "Validation accuracy: 59.1%\n",
      "Minibatch loss at step 3200: 852.665710, lr: 0.000150\n",
      "Validation accuracy: 59.8%\n",
      "Minibatch loss at step 3600: 601.209839, lr: 0.000142\n",
      "Validation accuracy: 59.7%\n",
      "Minibatch loss at step 4000: 676.057861, lr: 0.000135\n",
      "Validation accuracy: 59.7%\n",
      "Minibatch loss at step 4400: 812.050415, lr: 0.000122\n",
      "Validation accuracy: 59.9%\n",
      "Minibatch loss at step 4800: 720.361938, lr: 0.000116\n",
      "Validation accuracy: 59.8%\n",
      "Test accuracy: 85.1%\n",
      "---Initialized ---: beta,d_rate,s_rate=  0.001 0.95 0.0001\n",
      "Minibatch loss at step 0: 7095.237793, lr: 0.000100\n",
      "Validation accuracy: 9.0%\n",
      "Minibatch loss at step 400: 2894.980957, lr: 0.000095\n",
      "Validation accuracy: 42.2%\n",
      "Minibatch loss at step 800: 1975.913574, lr: 0.000090\n",
      "Validation accuracy: 48.8%\n",
      "Minibatch loss at step 1200: 1678.556885, lr: 0.000086\n",
      "Validation accuracy: 51.8%\n",
      "Minibatch loss at step 1600: 1698.119995, lr: 0.000077\n",
      "Validation accuracy: 53.8%\n",
      "Minibatch loss at step 2000: 1553.545654, lr: 0.000074\n",
      "Validation accuracy: 55.2%\n",
      "Minibatch loss at step 2400: 1458.568115, lr: 0.000070\n",
      "Validation accuracy: 55.9%\n",
      "Minibatch loss at step 2800: 1102.805298, lr: 0.000066\n",
      "Validation accuracy: 56.4%\n",
      "Minibatch loss at step 3200: 973.371033, lr: 0.000060\n",
      "Validation accuracy: 56.9%\n",
      "Minibatch loss at step 3600: 970.401855, lr: 0.000057\n",
      "Validation accuracy: 57.2%\n",
      "Minibatch loss at step 4000: 1226.675537, lr: 0.000054\n",
      "Validation accuracy: 57.4%\n",
      "Minibatch loss at step 4400: 1294.896606, lr: 0.000049\n",
      "Validation accuracy: 57.9%\n",
      "Minibatch loss at step 4800: 894.842407, lr: 0.000046\n",
      "Validation accuracy: 57.9%\n",
      "Test accuracy: 84.6%\n"
     ]
    }
   ],
   "source": [
    "# is early stop based on valid accuracy or on Loss?\n",
    "\n",
    "\n",
    "\n",
    "import itertools\n",
    "for (beta_reg,decay_rate,starter_rate) in itertools.product(betas,decay_rates,starter_rates):\n",
    "\n",
    "    batch_size = 64\n",
    "    # number of hidden nodes in layer 1  \n",
    "    num_h1 = 1024\n",
    "    num_h2 = 256\n",
    "    \n",
    "    \n",
    "    # lr decay\n",
    "    decay_steps = 20000\n",
    "\n",
    "    # init graph\n",
    "    graph = tf.Graph()\n",
    "\n",
    "    with graph.as_default():\n",
    "\n",
    "        # Input data - Placeholder\n",
    "        X_train = tf.placeholder(tf.float32, shape=(batch_size, image_size * image_size))\n",
    "        Y_train = tf.placeholder(tf.float32, shape=(batch_size, num_labels))\n",
    "        X_valid = tf.constant(valid_dataset)\n",
    "        X_test = tf.constant(test_dataset)\n",
    "\n",
    "        # Variables - random initialization for weights + ReLu  (drop 50% of the activations)\n",
    "        H0 = tf.Variable(tf.truncated_normal([image_size * image_size, num_h1]))\n",
    "        b_h0 = tf.Variable(tf.constant(0.01, shape=[num_h1]))\n",
    "        R = tf.nn.dropout(tf.nn.relu(tf.matmul(X_train, H0) + b_h0), 0.5)\n",
    "\n",
    "        # hidden layer 1 variables + ReLu + Dropout (drop 50%)\n",
    "        H1 = tf.Variable(tf.truncated_normal([num_h1, num_h2]))\n",
    "        b_h1 = tf.Variable(tf.constant(0.01, shape=[num_h2]))\n",
    "        R2 = tf.nn.dropout(tf.nn.relu(tf.matmul(R, H1) + b_h1), 0.5)\n",
    "\n",
    "        # hidden layer 2 variables + logits computation.\n",
    "        W = tf.Variable(tf.truncated_normal([num_h2, num_labels]))\n",
    "        b = tf.Variable(tf.constant(0.1, shape=[num_labels]))\n",
    "        logits = tf.matmul(R2, W) + b\n",
    "\n",
    "        # loss\n",
    "        loss = tf.reduce_mean(tf.nn.softmax_cross_entropy_with_logits(logits, Y_train))\n",
    "\n",
    "        # regularization\n",
    "        l2_reg = beta_reg * (tf.nn.l2_loss(H0) + tf.nn.l2_loss(b_h0) + \n",
    "                             tf.nn.l2_loss(H1) + tf.nn.l2_loss(b_h1) + \n",
    "                             tf.nn.l2_loss(W) + tf.nn.l2_loss(b)) \n",
    "        loss += l2_reg\n",
    "\n",
    "        # Optimizer.\n",
    "        global_step = tf.Variable(0.,)\n",
    "        learning_rate = tf.train.exponential_decay(starter_rate, \n",
    "                                                   #global_step,\n",
    "                                                   global_step * batch_size, \n",
    "                                                   decay_steps,   # decay every decay_steps\n",
    "                                                   decay_rate,     # decay_rate\n",
    "                                                   staircase=True)\n",
    "        optimizer = tf.train.GradientDescentOptimizer(\n",
    "                                learning_rate).minimize(loss, global_step=global_step)\n",
    "\n",
    "        # Predictions for the training, validation, and test data.\n",
    "        # pred =   SoftMax (ReLu(ReLu(Xtest^t * H0 + b_0) * H1  + bh1)* W + b )\n",
    "        train_prediction = tf.nn.softmax(logits)\n",
    "        valid_prediction = tf.nn.softmax( \\\n",
    "            tf.matmul(tf.nn.relu(tf.matmul(tf.nn.relu(tf.matmul(X_valid, H0) + b_h0), H1) + b_h1), W) + b)\n",
    "        test_prediction = tf.nn.softmax( \\\n",
    "            tf.matmul(tf.nn.relu(tf.matmul(tf.nn.relu(tf.matmul(X_test, H0) + b_h0), H1) + b_h1), W) + b)\n",
    "\n",
    "    with tf.Session(graph=graph) as session:\n",
    "        tf.initialize_all_variables().run()\n",
    "        print(\"---Initialized ---: beta,d_rate,s_rate= \",beta_reg,decay_rate,starter_rate)\n",
    "        \n",
    "        last_validation  = 0.\n",
    "        \n",
    "        for step in range(num_steps):\n",
    "            # offset:\n",
    "            offset = (step * batch_size) % (train_labels.shape[0] - batch_size)\n",
    "            # Generate a minibatch.\n",
    "            batch_data = train_dataset[offset:(offset + batch_size), :]\n",
    "            batch_labels = train_labels[offset:(offset + batch_size), :]\n",
    "\n",
    "            # feed:\n",
    "            feed_dict = {X_train : batch_data, Y_train: batch_labels}\n",
    "\n",
    "            # run:\n",
    "            _, l, lr, predictions  = session.run(\n",
    "              [optimizer, loss, learning_rate, train_prediction], feed_dict=feed_dict)\n",
    "            if (step % print_step == 0):\n",
    "                print(\"Minibatch loss at step %d: %f, lr: %f\" % (step, l, lr))\n",
    "                #print(\"Minibatch accuracy: %.1f%%\" % accuracy(predictions, batch_labels))\n",
    "                print(\"Validation accuracy: %.1f%%\" % accuracy(\n",
    "                   valid_prediction.eval(), valid_labels))\n",
    "                if accuracy(valid_prediction.eval(), valid_labels) > last_validation:\n",
    "                    #print(\"decreasing\")\n",
    "                    last_validation = accuracy(valid_prediction.eval(), valid_labels)\n",
    "                else: \n",
    "                    if accuracy(valid_prediction.eval(), valid_labels) < (last_validation / 1.08):\n",
    "                        print (\"early stop at %s steps\"%step, \"now: %f< before %f\\n\"%(\n",
    "                                accuracy(valid_prediction.eval(), valid_labels), last_validation))\n",
    "                        break\n",
    "                        \n",
    "        print(\"Test accuracy: %.1f%%\" % accuracy(test_prediction.eval(), test_labels))"
   ]
  },
  {
   "cell_type": "code",
   "execution_count": null,
   "metadata": {
    "collapsed": true
   },
   "outputs": [],
   "source": []
  }
 ],
 "metadata": {
  "colab": {
   "default_view": {},
   "name": "3_regularization.ipynb",
   "provenance": [],
   "version": "0.3.2",
   "views": {}
  },
  "kernelspec": {
   "display_name": "Python 2",
   "language": "python",
   "name": "python2"
  },
  "language_info": {
   "codemirror_mode": {
    "name": "ipython",
    "version": 2
   },
   "file_extension": ".py",
   "mimetype": "text/x-python",
   "name": "python",
   "nbconvert_exporter": "python",
   "pygments_lexer": "ipython2",
   "version": "2.7.11"
  }
 },
 "nbformat": 4,
 "nbformat_minor": 0
}
